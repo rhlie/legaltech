{
  "cells": [
    {
      "cell_type": "markdown",
      "id": "1d2c733e-4fec-4fe7-b68f-7474fa9f8e28",
      "metadata": {
        "id": "1d2c733e-4fec-4fe7-b68f-7474fa9f8e28"
      },
      "source": [
        "# Run only once to install the software"
      ]
    },
    {
      "cell_type": "code",
      "execution_count": null,
      "id": "80a2848b-6da3-45fc-9269-e4edc589e5ac",
      "metadata": {
        "id": "80a2848b-6da3-45fc-9269-e4edc589e5ac"
      },
      "outputs": [],
      "source": [
        "!pip install -U transformers\n",
        "!pip install -U spacy\n",
        "!pip install -U ludwig\n",
        "!pip install -U tensorflow==2.10 \n",
        "\n",
        "!python -m spacy download en_core_web_sm"
      ]
    },
    {
      "cell_type": "code",
      "execution_count": null,
      "id": "4dc372ea-e97d-462e-a4ec-a4ea52146918",
      "metadata": {
        "id": "4dc372ea-e97d-462e-a4ec-a4ea52146918"
      },
      "outputs": [],
      "source": []
    },
    {
      "cell_type": "markdown",
      "id": "ff5c8c16-0882-44dd-a169-004765b23d36",
      "metadata": {
        "id": "ff5c8c16-0882-44dd-a169-004765b23d36"
      },
      "source": [
        "# Import models"
      ]
    },
    {
      "cell_type": "code",
      "execution_count": null,
      "id": "7a705ada-9368-44b9-b3de-773a171a1a4d",
      "metadata": {
        "id": "7a705ada-9368-44b9-b3de-773a171a1a4d"
      },
      "outputs": [],
      "source": [
        "from transformers import pipeline\n",
        "import json\n",
        "import spacy\n",
        "from spacy import displacy\n",
        "from ludwig.api import LudwigModel\n",
        "from ludwig.datasets import agnews\n",
        "import logging\n",
        "nlp = spacy.load(\"en_core_web_sm\")"
      ]
    },
    {
      "cell_type": "code",
      "execution_count": null,
      "id": "355ed5ee-3e34-4498-aac9-d82ad508d7df",
      "metadata": {
        "id": "355ed5ee-3e34-4498-aac9-d82ad508d7df"
      },
      "outputs": [],
      "source": [
        "def getFactText():\n",
        "    allFactTexts={\"parts\":[], \"fullText\":[]}\n",
        "    with open('cases-9.json', encoding='utf-8') as json_file:\n",
        "        data = json.load(json_file)\n",
        "        for case in data:\n",
        "            caseFullText=\"\"\n",
        "            for contentItem in case[\"content\"]:\n",
        "                for textBulk in case[\"content\"][contentItem]:\n",
        "                    if textBulk[\"content\"]==\"THE FACTS\":\n",
        "                        for subText in textBulk[\"elements\"]:\n",
        "                            if subText[\"content\"]==\"I.\\xa0\\xa0THE CIRCUMSTANCES OF THE CASE\":\n",
        "                                for actualText in subText[\"elements\"]:\n",
        "                                    allFactTexts[\"parts\"].append(actualText[\"content\"].replace(\"\\xa0\\xa0\", \" \"))\n",
        "                                    caseFullText=caseFullText + \"\\n \" + actualText[\"content\"].replace(\"\\xa0\\xa0\", \" \")\n",
        "            allFactTexts[\"fullText\"].append(caseFullText)\n",
        "    return allFactTexts"
      ]
    },
    {
      "cell_type": "code",
      "execution_count": null,
      "id": "82cdf5cb-a7d4-4e1d-b167-1da923fd343e",
      "metadata": {
        "id": "82cdf5cb-a7d4-4e1d-b167-1da923fd343e"
      },
      "outputs": [],
      "source": [
        "facts = getFactText()\n",
        "\n",
        "factToTestOn=facts[\"parts\"][13]\n",
        "longText=facts[\"fullText\"][3]\n",
        "print(factToTestOn)\n",
        "print(longText)"
      ]
    },
    {
      "cell_type": "markdown",
      "id": "665389c5-b5c7-4518-b669-6372f4f3e6ce",
      "metadata": {
        "id": "665389c5-b5c7-4518-b669-6372f4f3e6ce"
      },
      "source": [
        "# Question / answering"
      ]
    },
    {
      "cell_type": "code",
      "execution_count": null,
      "id": "8ed6ab3c-af06-46a7-83a2-fc669d0eb151",
      "metadata": {
        "id": "8ed6ab3c-af06-46a7-83a2-fc669d0eb151"
      },
      "outputs": [],
      "source": [
        "question_answerer = pipeline(\"question-answering\", model='distilbert-base-uncased-distilled-squad')\n",
        "\n",
        "context = factToTestOn"
      ]
    },
    {
      "cell_type": "code",
      "execution_count": null,
      "id": "e630888f-b647-4445-97be-314ad74b2d54",
      "metadata": {
        "id": "e630888f-b647-4445-97be-314ad74b2d54"
      },
      "outputs": [],
      "source": [
        "result = question_answerer(question=\"When did the applicant arrive in Moscow?\",     context=context)"
      ]
    },
    {
      "cell_type": "code",
      "execution_count": null,
      "id": "cad8ae74-657b-481c-ac4b-9cfee307457a",
      "metadata": {
        "id": "cad8ae74-657b-481c-ac4b-9cfee307457a"
      },
      "outputs": [],
      "source": [
        "print(result)"
      ]
    },
    {
      "cell_type": "markdown",
      "id": "53c78776-55b8-4179-a4b7-b11b8a9d224b",
      "metadata": {
        "id": "53c78776-55b8-4179-a4b7-b11b8a9d224b"
      },
      "source": [
        "# Entity highlighting"
      ]
    },
    {
      "cell_type": "code",
      "execution_count": null,
      "id": "59d48a7c-e3d9-4a6e-bd05-2d0d20cd0cf6",
      "metadata": {
        "id": "59d48a7c-e3d9-4a6e-bd05-2d0d20cd0cf6"
      },
      "outputs": [],
      "source": [
        "\n",
        "doc = nlp(factToTestOn)\n",
        "displacy.render(doc, style=\"ent\")"
      ]
    },
    {
      "cell_type": "markdown",
      "id": "5f9f3c3b-ed37-4c50-88be-81319e2db4d6",
      "metadata": {
        "id": "5f9f3c3b-ed37-4c50-88be-81319e2db4d6"
      },
      "source": [
        "# Summarisation"
      ]
    },
    {
      "cell_type": "code",
      "execution_count": null,
      "id": "d0f802de-9132-4cdc-9531-a8705712b539",
      "metadata": {
        "id": "d0f802de-9132-4cdc-9531-a8705712b539"
      },
      "outputs": [],
      "source": [
        "summarizer = pipeline(\"summarization\", model=\"facebook/bart-base\")\n",
        "print(summarizer(longText, max_length=40, min_length=30, do_sample=False))\n"
      ]
    },
    {
      "cell_type": "markdown",
      "id": "92ef3b84-ddff-4e63-ab42-fd9ed9555a9b",
      "metadata": {
        "id": "92ef3b84-ddff-4e63-ab42-fd9ed9555a9b"
      },
      "source": [
        "# Supervised Machine Learning"
      ]
    },
    {
      "cell_type": "code",
      "execution_count": null,
      "id": "0c4d8747-cbc0-4b8d-9b16-aeed9c6a4196",
      "metadata": {
        "id": "0c4d8747-cbc0-4b8d-9b16-aeed9c6a4196"
      },
      "outputs": [],
      "source": [
        "train_df = agnews.load()\n",
        "\n",
        "\n",
        "config = {\n",
        "  \"input_features\": [\n",
        "    {\n",
        "      \"name\": \"title\",            # The name of the input column\n",
        "      \"type\": \"text\",             # Data type of the input column\n",
        "      \"encoder\": {\n",
        "            \"type\": \"parallel_cnn\"\n",
        "       }                          # The model architecture we should use for encoding this column\n",
        "    }\n",
        "  ],\n",
        "  \"output_features\": [\n",
        "    {\n",
        "      \"name\": \"class\",\n",
        "      \"type\": \"category\",\n",
        "    }\n",
        "  ]\n",
        "}\n",
        "\n",
        "model = LudwigModel(config, logging_level=logging.INFO)\n"
      ]
    },
    {
      "cell_type": "code",
      "execution_count": null,
      "id": "d08b3e20-0f1e-4324-af40-0feab669eb2d",
      "metadata": {
        "id": "d08b3e20-0f1e-4324-af40-0feab669eb2d"
      },
      "outputs": [],
      "source": [
        "train_stats, preprocessed_data, output_directory = model.train(dataset=train_df)"
      ]
    },
    {
      "cell_type": "code",
      "execution_count": null,
      "id": "88b34803-f98c-4017-a854-0af2ca8b3a88",
      "metadata": {
        "id": "88b34803-f98c-4017-a854-0af2ca8b3a88"
      },
      "outputs": [],
      "source": [
        "test_stats, predictions, output_directory = model.evaluate(\n",
        "  test_df,\n",
        "  collect_predictions=True,\n",
        "  collect_overall_stats=True\n",
        ")"
      ]
    },
    {
      "cell_type": "code",
      "execution_count": null,
      "id": "598b1dfb-3cca-452d-99ec-2ea905013eba",
      "metadata": {
        "id": "598b1dfb-3cca-452d-99ec-2ea905013eba"
      },
      "outputs": [],
      "source": [
        "from ludwig.visualize import confusion_matrix\n",
        "\n",
        "confusion_matrix(\n",
        "  [test_stats],\n",
        "  model.training_set_metadata,\n",
        "  'class',\n",
        "  top_n_classes=[5],\n",
        "  model_names=[''],\n",
        "  normalize=True,\n",
        ")\n",
        "\n"
      ]
    },
    {
      "cell_type": "code",
      "execution_count": null,
      "id": "dd33ebc8-2386-445f-aca6-474477b4af2f",
      "metadata": {
        "id": "dd33ebc8-2386-445f-aca6-474477b4af2f"
      },
      "outputs": [],
      "source": [
        "text_to_predict = pd.DataFrame({\n",
        "  \"title\": [\n",
        "    \"Google may spur cloud cybersecurity M&A with $5.4B Mandiant buy\",\n",
        "    \"Europe struggles to meet mounting needs of Ukraine's fleeing millions\",\n",
        "    \"How the pandemic housing market spurred buyer's remorse across America\",\n",
        "  ]\n",
        "})\n",
        "\n",
        "predictions, output_directory = model.predict(text_to_predict)"
      ]
    }
  ],
  "metadata": {
    "kernelspec": {
      "display_name": "Python 3",
      "language": "python",
      "name": "python3"
    },
    "language_info": {
      "codemirror_mode": {
        "name": "ipython",
        "version": 3
      },
      "file_extension": ".py",
      "mimetype": "text/x-python",
      "name": "python",
      "nbconvert_exporter": "python",
      "pygments_lexer": "ipython3",
      "version": "3.8.10"
    },
    "colab": {
      "provenance": []
    }
  },
  "nbformat": 4,
  "nbformat_minor": 5
}